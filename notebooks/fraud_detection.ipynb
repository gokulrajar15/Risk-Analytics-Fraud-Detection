{
 "cells": [
  {
   "cell_type": "markdown",
   "id": "b00d9337",
   "metadata": {},
   "source": [
    "## Setting up Google Cloud credentials\n",
    "Link: https://googleapis.dev/python/google-api-core/latest/auth.html"
   ]
  },
  {
   "cell_type": "code",
   "execution_count": 1,
   "id": "d74ef292",
   "metadata": {},
   "outputs": [],
   "source": [
    "#Setting up google application credentials\n",
    "import os\n",
    "os.environ[\"GOOGLE_APPLICATION_CREDENTIALS\"] = \"Your path to gcp.json file\""
   ]
  }
 ],
 "metadata": {
  "kernelspec": {
   "display_name": ".venv",
   "language": "python",
   "name": "python3"
  },
  "language_info": {
   "codemirror_mode": {
    "name": "ipython",
    "version": 3
   },
   "file_extension": ".py",
   "mimetype": "text/x-python",
   "name": "python",
   "nbconvert_exporter": "python",
   "pygments_lexer": "ipython3",
   "version": "3.11.9"
  }
 },
 "nbformat": 4,
 "nbformat_minor": 5
}
